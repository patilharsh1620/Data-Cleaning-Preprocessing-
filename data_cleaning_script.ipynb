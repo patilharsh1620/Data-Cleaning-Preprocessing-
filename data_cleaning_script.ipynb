{
 "cells": [
  {
   "cell_type": "code",
   "execution_count": null,
   "id": "51bdd886",
   "metadata": {},
   "outputs": [],
   "source": [
    "\n",
    "# Data Cleaning Script - Medical Appointment No Shows\n",
    "\n",
    "import pandas as pd\n",
    "\n",
    "# Load the raw dataset\n",
    "df = pd.read_csv('raw_dataset.csv')\n",
    "\n",
    "# Step 1: Convert ScheduledDay and AppointmentDay to datetime format\n",
    "df['ScheduledDay'] = pd.to_datetime(df['ScheduledDay']).dt.strftime('%d-%m-%Y')\n",
    "df['AppointmentDay'] = pd.to_datetime(df['AppointmentDay']).dt.strftime('%d-%m-%Y')\n",
    "\n",
    "# Step 2: Standardize column names\n",
    "df.columns = df.columns.str.lower().str.replace(\" \", \"_\")\n",
    "\n",
    "# Step 3: Standardize text values in Gender column\n",
    "df['gender'] = df['gender'].str.lower()\n",
    "\n",
    "# Save cleaned dataset\n",
    "df.to_csv('cleaned_dataset.csv', index=False)\n"
   ]
  }
 ],
 "metadata": {},
 "nbformat": 4,
 "nbformat_minor": 5
}
